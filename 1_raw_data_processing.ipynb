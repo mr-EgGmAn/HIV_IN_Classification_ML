{
 "cells": [
  {
   "cell_type": "code",
   "execution_count": 2,
   "id": "phPyfrenh42L",
   "metadata": {
    "id": "phPyfrenh42L"
   },
   "outputs": [],
   "source": [
    "import pandas as pd\n",
    "import numpy as np"
   ]
  },
  {
   "cell_type": "markdown",
   "id": "d5d0f6b6-8d24-4a7e-8695-ea691d452e0b",
   "metadata": {},
   "source": [
    "# 1. Load data"
   ]
  },
  {
   "cell_type": "code",
   "execution_count": 3,
   "id": "bdc4dea3-de98-435d-adee-eeec92d5433c",
   "metadata": {},
   "outputs": [
    {
     "name": "stderr",
     "output_type": "stream",
     "text": [
      "/tmp/ipykernel_1604714/1427946605.py:1: DtypeWarning: Columns (27,29,30,31,43,45) have mixed types. Specify dtype option on import or set low_memory=False.\n",
      "  data = pd.read_csv('Data/ecoli.csv', sep=';')\n"
     ]
    },
    {
     "data": {
      "text/html": [
       "<div>\n",
       "<style scoped>\n",
       "    .dataframe tbody tr th:only-of-type {\n",
       "        vertical-align: middle;\n",
       "    }\n",
       "\n",
       "    .dataframe tbody tr th {\n",
       "        vertical-align: top;\n",
       "    }\n",
       "\n",
       "    .dataframe thead th {\n",
       "        text-align: right;\n",
       "    }\n",
       "</style>\n",
       "<table border=\"1\" class=\"dataframe\">\n",
       "  <thead>\n",
       "    <tr style=\"text-align: right;\">\n",
       "      <th></th>\n",
       "      <th>Molecule ChEMBL ID</th>\n",
       "      <th>Molecule Name</th>\n",
       "      <th>Molecule Max Phase</th>\n",
       "      <th>Molecular Weight</th>\n",
       "      <th>#RO5 Violations</th>\n",
       "      <th>AlogP</th>\n",
       "      <th>Compound Key</th>\n",
       "      <th>Smiles</th>\n",
       "      <th>Standard Type</th>\n",
       "      <th>Standard Relation</th>\n",
       "      <th>...</th>\n",
       "      <th>Target Type</th>\n",
       "      <th>Document ChEMBL ID</th>\n",
       "      <th>Source ID</th>\n",
       "      <th>Source Description</th>\n",
       "      <th>Document Journal</th>\n",
       "      <th>Document Year</th>\n",
       "      <th>Cell ChEMBL ID</th>\n",
       "      <th>Properties</th>\n",
       "      <th>Action Type</th>\n",
       "      <th>Standard Text Value</th>\n",
       "    </tr>\n",
       "  </thead>\n",
       "  <tbody>\n",
       "    <tr>\n",
       "      <th>0</th>\n",
       "      <td>CHEMBL424566</td>\n",
       "      <td>NaN</td>\n",
       "      <td>NaN</td>\n",
       "      <td>275.26</td>\n",
       "      <td>0.0</td>\n",
       "      <td>-0.90</td>\n",
       "      <td>1d</td>\n",
       "      <td>O=C1c2c([n+]([O-])c3ccccc3[n+]2[O-])CCN1CCO</td>\n",
       "      <td>MIC</td>\n",
       "      <td>'='</td>\n",
       "      <td>...</td>\n",
       "      <td>ORGANISM</td>\n",
       "      <td>CHEMBL1122100</td>\n",
       "      <td>1</td>\n",
       "      <td>Scientific Literature</td>\n",
       "      <td>J Med Chem</td>\n",
       "      <td>1982.0</td>\n",
       "      <td>NaN</td>\n",
       "      <td>NaN</td>\n",
       "      <td>NaN</td>\n",
       "      <td>NaN</td>\n",
       "    </tr>\n",
       "    <tr>\n",
       "      <th>1</th>\n",
       "      <td>CHEMBL1835193</td>\n",
       "      <td>NaN</td>\n",
       "      <td>NaN</td>\n",
       "      <td>418.46</td>\n",
       "      <td>0.0</td>\n",
       "      <td>2.33</td>\n",
       "      <td>5u</td>\n",
       "      <td>COc1ccc2nc(N3CCOCC3)c(C3C(C#N)=C(N)Oc4[nH]nc(C...</td>\n",
       "      <td>MIC</td>\n",
       "      <td>'='</td>\n",
       "      <td>...</td>\n",
       "      <td>ORGANISM</td>\n",
       "      <td>CHEMBL1833797</td>\n",
       "      <td>1</td>\n",
       "      <td>Scientific Literature</td>\n",
       "      <td>Bioorg Med Chem Lett</td>\n",
       "      <td>2011.0</td>\n",
       "      <td>NaN</td>\n",
       "      <td>NaN</td>\n",
       "      <td>NaN</td>\n",
       "      <td>NaN</td>\n",
       "    </tr>\n",
       "    <tr>\n",
       "      <th>2</th>\n",
       "      <td>CHEMBL34134</td>\n",
       "      <td>NaN</td>\n",
       "      <td>NaN</td>\n",
       "      <td>913.10</td>\n",
       "      <td>3.0</td>\n",
       "      <td>6.98</td>\n",
       "      <td>16</td>\n",
       "      <td>COC1/C=C/OC2(C)Oc3c(C)c(O)c4c(O)c(c5sc(N6CCN(C...</td>\n",
       "      <td>MIC</td>\n",
       "      <td>'='</td>\n",
       "      <td>...</td>\n",
       "      <td>ORGANISM</td>\n",
       "      <td>CHEMBL1124774</td>\n",
       "      <td>1</td>\n",
       "      <td>Scientific Literature</td>\n",
       "      <td>J Med Chem</td>\n",
       "      <td>1990.0</td>\n",
       "      <td>NaN</td>\n",
       "      <td>NaN</td>\n",
       "      <td>NaN</td>\n",
       "      <td>NaN</td>\n",
       "    </tr>\n",
       "    <tr>\n",
       "      <th>3</th>\n",
       "      <td>CHEMBL28682</td>\n",
       "      <td>NaN</td>\n",
       "      <td>NaN</td>\n",
       "      <td>363.41</td>\n",
       "      <td>0.0</td>\n",
       "      <td>1.70</td>\n",
       "      <td>18</td>\n",
       "      <td>CN1CCN(c2cc3c(cc2F)c(=O)c(C(=O)O)c2n3CCS2)CC1</td>\n",
       "      <td>pMIC</td>\n",
       "      <td>'='</td>\n",
       "      <td>...</td>\n",
       "      <td>ORGANISM</td>\n",
       "      <td>CHEMBL1125906</td>\n",
       "      <td>1</td>\n",
       "      <td>Scientific Literature</td>\n",
       "      <td>J Med Chem</td>\n",
       "      <td>1991.0</td>\n",
       "      <td>NaN</td>\n",
       "      <td>NaN</td>\n",
       "      <td>NaN</td>\n",
       "      <td>NaN</td>\n",
       "    </tr>\n",
       "    <tr>\n",
       "      <th>4</th>\n",
       "      <td>CHEMBL1802185</td>\n",
       "      <td>NaN</td>\n",
       "      <td>NaN</td>\n",
       "      <td>432.79</td>\n",
       "      <td>0.0</td>\n",
       "      <td>0.88</td>\n",
       "      <td>17b</td>\n",
       "      <td>O=C([O-])c1ccc(-c2ccc(O[C@H]3O[C@H](CO)[C@@H](...</td>\n",
       "      <td>FC</td>\n",
       "      <td>'='</td>\n",
       "      <td>...</td>\n",
       "      <td>ORGANISM</td>\n",
       "      <td>CHEMBL1799951</td>\n",
       "      <td>1</td>\n",
       "      <td>Scientific Literature</td>\n",
       "      <td>J Med Chem</td>\n",
       "      <td>2010.0</td>\n",
       "      <td>NaN</td>\n",
       "      <td>NaN</td>\n",
       "      <td>NaN</td>\n",
       "      <td>NaN</td>\n",
       "    </tr>\n",
       "  </tbody>\n",
       "</table>\n",
       "<p>5 rows × 47 columns</p>\n",
       "</div>"
      ],
      "text/plain": [
       "  Molecule ChEMBL ID Molecule Name  Molecule Max Phase  Molecular Weight  \\\n",
       "0       CHEMBL424566           NaN                 NaN            275.26   \n",
       "1      CHEMBL1835193           NaN                 NaN            418.46   \n",
       "2        CHEMBL34134           NaN                 NaN            913.10   \n",
       "3        CHEMBL28682           NaN                 NaN            363.41   \n",
       "4      CHEMBL1802185           NaN                 NaN            432.79   \n",
       "\n",
       "   #RO5 Violations  AlogP Compound Key  \\\n",
       "0              0.0  -0.90           1d   \n",
       "1              0.0   2.33           5u   \n",
       "2              3.0   6.98           16   \n",
       "3              0.0   1.70           18   \n",
       "4              0.0   0.88          17b   \n",
       "\n",
       "                                              Smiles Standard Type  \\\n",
       "0        O=C1c2c([n+]([O-])c3ccccc3[n+]2[O-])CCN1CCO           MIC   \n",
       "1  COc1ccc2nc(N3CCOCC3)c(C3C(C#N)=C(N)Oc4[nH]nc(C...           MIC   \n",
       "2  COC1/C=C/OC2(C)Oc3c(C)c(O)c4c(O)c(c5sc(N6CCN(C...           MIC   \n",
       "3      CN1CCN(c2cc3c(cc2F)c(=O)c(C(=O)O)c2n3CCS2)CC1          pMIC   \n",
       "4  O=C([O-])c1ccc(-c2ccc(O[C@H]3O[C@H](CO)[C@@H](...            FC   \n",
       "\n",
       "  Standard Relation  ...  Target Type Document ChEMBL ID  Source ID  \\\n",
       "0               '='  ...     ORGANISM      CHEMBL1122100          1   \n",
       "1               '='  ...     ORGANISM      CHEMBL1833797          1   \n",
       "2               '='  ...     ORGANISM      CHEMBL1124774          1   \n",
       "3               '='  ...     ORGANISM      CHEMBL1125906          1   \n",
       "4               '='  ...     ORGANISM      CHEMBL1799951          1   \n",
       "\n",
       "      Source Description      Document Journal Document Year  Cell ChEMBL ID  \\\n",
       "0  Scientific Literature            J Med Chem        1982.0             NaN   \n",
       "1  Scientific Literature  Bioorg Med Chem Lett        2011.0             NaN   \n",
       "2  Scientific Literature            J Med Chem        1990.0             NaN   \n",
       "3  Scientific Literature            J Med Chem        1991.0             NaN   \n",
       "4  Scientific Literature            J Med Chem        2010.0             NaN   \n",
       "\n",
       "   Properties  Action Type  Standard Text Value  \n",
       "0         NaN          NaN                  NaN  \n",
       "1         NaN          NaN                  NaN  \n",
       "2         NaN          NaN                  NaN  \n",
       "3         NaN          NaN                  NaN  \n",
       "4         NaN          NaN                  NaN  \n",
       "\n",
       "[5 rows x 47 columns]"
      ]
     },
     "execution_count": 3,
     "metadata": {},
     "output_type": "execute_result"
    }
   ],
   "source": [
    "data = pd.read_csv('Data/ecoli.csv', sep=';')\n",
    "data.head(5)"
   ]
  },
  {
   "cell_type": "code",
   "execution_count": 7,
   "id": "7b9d1ca7",
   "metadata": {},
   "outputs": [
    {
     "data": {
      "text/plain": [
       "Index(['Molecule ChEMBL ID', 'Molecule Name', 'Molecule Max Phase',\n",
       "       'Molecular Weight', '#RO5 Violations', 'AlogP', 'Compound Key',\n",
       "       'Smiles', 'Standard Type', 'Standard Relation', 'Standard Value',\n",
       "       'Standard Units', 'pChEMBL Value', 'Data Validity Comment', 'Comment',\n",
       "       'Uo Units', 'Ligand Efficiency BEI', 'Ligand Efficiency LE',\n",
       "       'Ligand Efficiency LLE', 'Ligand Efficiency SEI', 'Potential Duplicate',\n",
       "       'Assay ChEMBL ID', 'Assay Description', 'Assay Type', 'BAO Format ID',\n",
       "       'BAO Label', 'Assay Organism', 'Assay Tissue ChEMBL ID',\n",
       "       'Assay Tissue Name', 'Assay Cell Type', 'Assay Subcellular Fraction',\n",
       "       'Assay Parameters', 'Assay Variant Accession', 'Assay Variant Mutation',\n",
       "       'Target ChEMBL ID', 'Target Name', 'Target Organism', 'Target Type',\n",
       "       'Document ChEMBL ID', 'Source ID', 'Source Description',\n",
       "       'Document Journal', 'Document Year', 'Cell ChEMBL ID', 'Properties',\n",
       "       'Action Type', 'Standard Text Value'],\n",
       "      dtype='object')"
      ]
     },
     "execution_count": 7,
     "metadata": {},
     "output_type": "execute_result"
    }
   ],
   "source": [
    "data.columns"
   ]
  },
  {
   "cell_type": "code",
   "execution_count": 14,
   "id": "29e2d989",
   "metadata": {},
   "outputs": [
    {
     "data": {
      "text/plain": [
       "array(['MIC', 'pMIC', 'FC', 'IZ', 'ED50', 'Antibacterial activity',\n",
       "       'Zone of inhibition', 'Activity', 'GI', 'MIC80', 'EC50', 'IC50',\n",
       "       'Ratio', 'MIC90', 'MIC50', 'MBC', 'Diffusion analysis', 'PD50',\n",
       "       'Dobs', 'Log 1/MIC', 'Inhibition', 'Log 1/C', 'MLC',\n",
       "       'Zone of stimulation', 'FIC', 'Max salt tolerance', 'TIME',\n",
       "       'Inhibitory diameter', 'pKa2', 'Antibiotic resistance', 'MBC99.9',\n",
       "       'MIC95', 'Relative potency', 'Log k', 'log10CFU/ml', 'Drug uptake',\n",
       "       'DIZ', 'Ks', 'k_on', 'Susceptibility', 'I50', 'Log2 MIC',\n",
       "       '-logMIC', 'CFU', 'FICI', 'PAE', 'Cell growth', 'MBC>99.9',\n",
       "       'Concentration', 'MIC99', 'log10CFU/g', '-Log MIC', 'MIC70', 'MED',\n",
       "       'log10cfu', 'Stability', 'MIC>90', 'permeability', 'MPC', 'Kd',\n",
       "       'Survival', 'EC37', '-log(1/MIC)', 'fT>MIC', 'MIC>95', 'MIC=>90',\n",
       "       'Diameter', 'Inhibition zone', 'DW', 'Absorbance', 'Km',\n",
       "       'log(1/MIC)', 'Log SOSIP', 'Growth zone', 'Zone size', 'ED100',\n",
       "       'Ki', 'MIC100', 'IC90', 'ZImax/KZI', 'T1/2', 'RHR', 'ID50', 'LD99',\n",
       "       'Excess zone radius', 'AC50', '-Log C', 'MIC=>80',\n",
       "       'Relative velocity', 'Hydrolysis rate', 'MBIC50', 'Ratio EC50',\n",
       "       'Activity_index', 'RVmax', 'Imax', 'Potency', 'ABBC', 'IC95',\n",
       "       'MBEC', 'Selectivity ratio', 'MBC50', 'log(activity)', 'MBIC',\n",
       "       'Log rate constant', 'MBC99.5', 'log2FC', 'GI50', 'T1/2 regen',\n",
       "       'CD50', 'k cat/Km', 'k_off', 'Log D50', 'AD50', 'MBIC80',\n",
       "       'Dioxygen uptake rate', 'Selectivity Index', 'Growth inhibition',\n",
       "       'MBC90', 'RFU', 'Difference in retention time', 'CFU/ml', 'INH',\n",
       "       'MIC=>95', 'MEC', 'MIC99.9', 'LD50', 'log(1/C)', 'GI90',\n",
       "       'Efficacy', 'LC50', 'MBC=>99.9', 'Vmax', 'Ratio IC50', 'LCK',\n",
       "       'MBEC80', 'IC80', 'Fold change', 'Ratio ED50', 'Log', 'MIC>80',\n",
       "       'NT', 'MITC95', 'Kkmax', 'MMC', 'logMIC', 'Antibiotic activity',\n",
       "       'Bacterial growth', 'pKa1', 'Growth response', 'PI',\n",
       "       'Growth Inhibition', 'MLD', 'ED50 mg/kg', 'Zone reduction', 'LD90',\n",
       "       'ILB', 'ICmax', 'ED 50', 'MI50', nan, 'CC50', 'Drug metabolism',\n",
       "       'BIC', 'EC', 'OD', 'MBEC90', 'MRC', 'Flu intensity', 'MBIC90',\n",
       "       'MBC99.99', 'ED'], dtype=object)"
      ]
     },
     "execution_count": 14,
     "metadata": {},
     "output_type": "execute_result"
    }
   ],
   "source": [
    "data[\"Standard Type\"].unique()"
   ]
  },
  {
   "cell_type": "code",
   "execution_count": 33,
   "id": "c26ec38a",
   "metadata": {},
   "outputs": [
    {
     "name": "stdout",
     "output_type": "stream",
     "text": [
      "Count of \"IC50\" in \"Standard Type\": 0\n"
     ]
    }
   ],
   "source": [
    "ic50_count = (data['Standard Type'] == 'I50').sum()\n",
    "print(f'Count of \"IC50\" in \"Standard Type\": {ic50_count}')"
   ]
  },
  {
   "cell_type": "code",
   "execution_count": 13,
   "id": "e64e8498",
   "metadata": {},
   "outputs": [
    {
     "name": "stdout",
     "output_type": "stream",
     "text": [
      "Count of \"IC50\" in \"Standard Type\": 2579\n"
     ]
    }
   ],
   "source": [
    "ic50_count = (data['Standard Type'] == 'IC50').sum()\n",
    "print(f'Count of \"IC50\" in \"Standard Type\": {ic50_count}')"
   ]
  },
  {
   "cell_type": "markdown",
   "id": "ecf39cfc-59f6-449d-8798-7c94f2afe602",
   "metadata": {},
   "source": [
    "# 2. Preprocessing"
   ]
  },
  {
   "cell_type": "code",
   "execution_count": 15,
   "id": "53be4d1d-a5a3-4f54-9b5d-c084ba93a363",
   "metadata": {},
   "outputs": [],
   "source": [
    "import sys\n",
    "sys.path.append('./Codebase/Preprocessor')\n",
    "from Targetcurate import target_curate\n",
    "from Assaycurate import assay_curate\n",
    "from Smilecurate import smile_curate"
   ]
  },
  {
   "cell_type": "code",
   "execution_count": 16,
   "id": "fc952a96-df19-4bec-9ecf-43347e7f7501",
   "metadata": {},
   "outputs": [],
   "source": [
    "columns = ['Molecule ChEMBL ID', 'Smiles', 'Standard Type', 'Standard Relation', 'Standard Value', 'Standard Units', 'pChEMBL Value', 'Data Validity Comment',\n",
    "          'Assay Type', 'Assay Description','Assay Organism', 'Assay Variant Mutation','Target Name','Target Organism', 'Document Journal']\n",
    "\n",
    "df = data[columns]"
   ]
  },
  {
   "cell_type": "markdown",
   "id": "c72767ab-566b-4b2a-9b0f-c38c3a876024",
   "metadata": {
    "id": "28fbcc51-6d71-4e40-8276-1d02b0f7097d",
    "outputId": "c91a7db4-8318-4958-9f24-79b2b031e13f"
   },
   "source": [
    "## 2.1. Target value standardize (Standard)"
   ]
  },
  {
   "cell_type": "code",
   "execution_count": 17,
   "id": "ac1edc17-46e2-48e7-8da9-47c29c638a9d",
   "metadata": {},
   "outputs": [
    {
     "data": {
      "text/plain": [
       "array(['Escherichia coli'], dtype=object)"
      ]
     },
     "execution_count": 17,
     "metadata": {},
     "output_type": "execute_result"
    }
   ],
   "source": [
    "df['Target Name'].unique()"
   ]
  },
  {
   "cell_type": "code",
   "execution_count": 18,
   "id": "d23b3736-ae96-4663-9252-084fbe36f1d7",
   "metadata": {},
   "outputs": [
    {
     "data": {
      "text/plain": [
       "array(['Escherichia coli'], dtype=object)"
      ]
     },
     "execution_count": 18,
     "metadata": {},
     "output_type": "execute_result"
    }
   ],
   "source": [
    "df['Target Organism'].unique()"
   ]
  },
  {
   "cell_type": "code",
   "execution_count": 20,
   "id": "356bd252-d81b-45b0-9758-b5290c0a2f99",
   "metadata": {},
   "outputs": [
    {
     "name": "stdout",
     "output_type": "stream",
     "text": [
      "Number of data before target curation: 133304\n"
     ]
    },
    {
     "data": {
      "text/plain": [
       "(133304, 15)"
      ]
     },
     "metadata": {},
     "output_type": "display_data"
    },
    {
     "data": {
      "text/plain": [
       "(133304, 15)"
      ]
     },
     "metadata": {},
     "output_type": "display_data"
    },
    {
     "name": "stdout",
     "output_type": "stream",
     "text": [
      "Number of data after handle organism and target name: 133304\n",
      "Number of data after select unit: 1916\n",
      "HANDLING\n",
      "Number of data after standardizing: 1465\n"
     ]
    },
    {
     "name": "stderr",
     "output_type": "stream",
     "text": [
      "/home/labhhc1/Documents/Workspace/D20/Nghi/HIV_IN_Classification_ML/./Codebase/Preprocessor/Targetcurate.py:78: SettingWithCopyWarning: \n",
      "A value is trying to be set on a copy of a slice from a DataFrame\n",
      "\n",
      "See the caveats in the documentation: https://pandas.pydata.org/pandas-docs/stable/user_guide/indexing.html#returning-a-view-versus-a-copy\n",
      "  df_big.drop(drop_idx, inplace = True)\n",
      "/home/labhhc1/Documents/Workspace/D20/Nghi/HIV_IN_Classification_ML/./Codebase/Preprocessor/Targetcurate.py:82: SettingWithCopyWarning: \n",
      "A value is trying to be set on a copy of a slice from a DataFrame\n",
      "\n",
      "See the caveats in the documentation: https://pandas.pydata.org/pandas-docs/stable/user_guide/indexing.html#returning-a-view-versus-a-copy\n",
      "  df_small.drop(drop_idx, inplace = True)\n"
     ]
    }
   ],
   "source": [
    "target = target_curate(data =df, target_name_col = 'Target Name', target_name ='Escherichia coli', \n",
    "                       target_org_col='Target Organism', target_org = 'Escherichia coli',\n",
    "                            type_col='Standard Type', unit_col='Standard Units', active_col='Standard Value', \n",
    "                            relate_col='Standard Relation', type_arg ='IC50',equal_only = False, thresh = 5)\n",
    "target.curated_fit()"
   ]
  },
  {
   "cell_type": "code",
   "execution_count": 21,
   "id": "62ca578e-188f-4b4c-8f31-daec11fc492f",
   "metadata": {},
   "outputs": [],
   "source": [
    "df1 = target.df"
   ]
  },
  {
   "cell_type": "markdown",
   "id": "31e268cc-42cc-43d1-af8b-05098e33b5e4",
   "metadata": {},
   "source": [
    "## 2.2. Assay"
   ]
  },
  {
   "cell_type": "code",
   "execution_count": 22,
   "id": "22c75734-3776-4cc0-80db-0b6ba638fd5a",
   "metadata": {},
   "outputs": [
    {
     "data": {
      "text/plain": [
       "array(['F', 'A'], dtype=object)"
      ]
     },
     "execution_count": 22,
     "metadata": {},
     "output_type": "execute_result"
    }
   ],
   "source": [
    "df1['Assay Type'].unique()"
   ]
  },
  {
   "cell_type": "code",
   "execution_count": 23,
   "id": "e26a9ae4-33b4-4ec5-aedd-0525aa79d57b",
   "metadata": {},
   "outputs": [
    {
     "data": {
      "text/plain": [
       "array(['Escherichia coli', 'Mus musculus', 'escherichia coli kc-14',\n",
       "       'Escherichia', 'e. coli strain a3228', 'escherichia coli a 15119',\n",
       "       'escherichia colin', 'Escherichia coli str. K-12 substr. MG1655',\n",
       "       'Staphylococcus aureus', 'Escherichia coli BL21(DE3)',\n",
       "       'Pseudomonas aeruginosa'], dtype=object)"
      ]
     },
     "execution_count": 23,
     "metadata": {},
     "output_type": "execute_result"
    }
   ],
   "source": [
    "df['Assay Organism'].unique()"
   ]
  },
  {
   "cell_type": "code",
   "execution_count": 24,
   "id": "be589c5e-7163-4cfa-9870-e5755592f6d8",
   "metadata": {},
   "outputs": [
    {
     "name": "stdout",
     "output_type": "stream",
     "text": [
      "Number of data befor standardizing: 1465\n",
      "Number of data after choosing assay type: 1426\n",
      "Number of data after choosing assay organism: 1426\n",
      "Number of data after curating: 1426\n"
     ]
    }
   ],
   "source": [
    "assay = assay_curate(data=df1, type_col=\"Assay Type\", org_col=\"Assay Organism\",des_col='Assay Description', \n",
    "                     type_arg='F', org_arg='Escherichia coli', kw = '')\n",
    "\n",
    "assay.curated_fit()"
   ]
  },
  {
   "cell_type": "code",
   "execution_count": 25,
   "id": "ddfa356a-620a-4c0c-ae18-004c3bd2d8f0",
   "metadata": {},
   "outputs": [
    {
     "data": {
      "text/plain": [
       "(1426, 16)"
      ]
     },
     "execution_count": 25,
     "metadata": {},
     "output_type": "execute_result"
    }
   ],
   "source": [
    "df2 = assay.df\n",
    "df2.shape"
   ]
  },
  {
   "cell_type": "markdown",
   "id": "YTvfa-Fb0MIs",
   "metadata": {
    "id": "YTvfa-Fb0MIs"
   },
   "source": [
    "## 2.3. Smiles curated"
   ]
  },
  {
   "cell_type": "code",
   "execution_count": 26,
   "id": "3e9f6a7e-6d20-4dff-814e-f05a993c3ab6",
   "metadata": {},
   "outputs": [
    {
     "name": "stdout",
     "output_type": "stream",
     "text": [
      "(1079, 17)\n"
     ]
    },
    {
     "name": "stderr",
     "output_type": "stream",
     "text": [
      "/home/labhhc1/Documents/Workspace/D20/Nghi/HIV_IN_Classification_ML/./Codebase/Preprocessor/Smilecurate.py:14: SettingWithCopyWarning: \n",
      "A value is trying to be set on a copy of a slice from a DataFrame.\n",
      "Try using .loc[row_indexer,col_indexer] = value instead\n",
      "\n",
      "See the caveats in the documentation: https://pandas.pydata.org/pandas-docs/stable/user_guide/indexing.html#returning-a-view-versus-a-copy\n",
      "  df['Canonical_Smiles'] = df[smile_col].apply(Chem.CanonSmiles)\n"
     ]
    }
   ],
   "source": [
    "smile = smile_curate(data=df2, smile_col='Smiles', pchem_col='pChEMBL', keep = 'best')\n",
    "smile.curate()"
   ]
  },
  {
   "cell_type": "code",
   "execution_count": 27,
   "id": "5f53dd07-f496-4c8b-88c1-c8ac4ee04567",
   "metadata": {},
   "outputs": [],
   "source": [
    "df3 = smile.df"
   ]
  },
  {
   "cell_type": "code",
   "execution_count": 28,
   "id": "21da336a-be83-4a27-81c6-d7dc32e2535f",
   "metadata": {},
   "outputs": [
    {
     "data": {
      "text/html": [
       "<div>\n",
       "<style scoped>\n",
       "    .dataframe tbody tr th:only-of-type {\n",
       "        vertical-align: middle;\n",
       "    }\n",
       "\n",
       "    .dataframe tbody tr th {\n",
       "        vertical-align: top;\n",
       "    }\n",
       "\n",
       "    .dataframe thead th {\n",
       "        text-align: right;\n",
       "    }\n",
       "</style>\n",
       "<table border=\"1\" class=\"dataframe\">\n",
       "  <thead>\n",
       "    <tr style=\"text-align: right;\">\n",
       "      <th></th>\n",
       "      <th>Molecule ChEMBL ID</th>\n",
       "      <th>Smiles</th>\n",
       "      <th>Standard Type</th>\n",
       "      <th>Standard Relation</th>\n",
       "      <th>Standard Value</th>\n",
       "      <th>Standard Units</th>\n",
       "      <th>pChEMBL Value</th>\n",
       "      <th>Data Validity Comment</th>\n",
       "      <th>Assay Type</th>\n",
       "      <th>Assay Description</th>\n",
       "      <th>Assay Organism</th>\n",
       "      <th>Assay Variant Mutation</th>\n",
       "      <th>Target Name</th>\n",
       "      <th>Target Organism</th>\n",
       "      <th>Document Journal</th>\n",
       "      <th>pChEMBL</th>\n",
       "      <th>Canonical_Smiles</th>\n",
       "    </tr>\n",
       "  </thead>\n",
       "  <tbody>\n",
       "    <tr>\n",
       "      <th>1173</th>\n",
       "      <td>CHEMBL186155</td>\n",
       "      <td>CCCCC[C@H](CC(=O)NO)C(=O)N[C@H](C(=O)C1CCC[C@H...</td>\n",
       "      <td>IC50</td>\n",
       "      <td>'='</td>\n",
       "      <td>0.7</td>\n",
       "      <td>nM</td>\n",
       "      <td>9.15</td>\n",
       "      <td>NaN</td>\n",
       "      <td>F</td>\n",
       "      <td>In vitro inhibitory activity against Escherich...</td>\n",
       "      <td>Escherichia coli</td>\n",
       "      <td>NaN</td>\n",
       "      <td>Escherichia coli</td>\n",
       "      <td>Escherichia coli</td>\n",
       "      <td>Bioorg Med Chem Lett</td>\n",
       "      <td>9.154902</td>\n",
       "      <td>CCCCC[C@H](CC(=O)NO)C(=O)N[C@H](C(=O)C1CCC[C@H...</td>\n",
       "    </tr>\n",
       "    <tr>\n",
       "      <th>1264</th>\n",
       "      <td>CHEMBL369559</td>\n",
       "      <td>CC(C)[C@H](NC(=O)C[C@H](NC(=O)/C=C/c1cccc(F)n1...</td>\n",
       "      <td>IC50</td>\n",
       "      <td>'='</td>\n",
       "      <td>1.0</td>\n",
       "      <td>nM</td>\n",
       "      <td>9.00</td>\n",
       "      <td>NaN</td>\n",
       "      <td>F</td>\n",
       "      <td>Inhibitory concentration of the compound again...</td>\n",
       "      <td>Escherichia coli</td>\n",
       "      <td>NaN</td>\n",
       "      <td>Escherichia coli</td>\n",
       "      <td>Escherichia coli</td>\n",
       "      <td>Bioorg Med Chem Lett</td>\n",
       "      <td>9.000000</td>\n",
       "      <td>CC(C)[C@H](NC(=O)C[C@H](NC(=O)/C=C/c1cccc(F)n1...</td>\n",
       "    </tr>\n",
       "    <tr>\n",
       "      <th>296</th>\n",
       "      <td>CHEMBL362048</td>\n",
       "      <td>CC(C)[C@H](NC(=O)C[C@H](NC(=O)/C=C/C(=O)O)c1cc...</td>\n",
       "      <td>IC50</td>\n",
       "      <td>'='</td>\n",
       "      <td>2.0</td>\n",
       "      <td>nM</td>\n",
       "      <td>8.70</td>\n",
       "      <td>NaN</td>\n",
       "      <td>F</td>\n",
       "      <td>Inhibitory concentration of the compound again...</td>\n",
       "      <td>Escherichia coli</td>\n",
       "      <td>NaN</td>\n",
       "      <td>Escherichia coli</td>\n",
       "      <td>Escherichia coli</td>\n",
       "      <td>Bioorg Med Chem Lett</td>\n",
       "      <td>8.698970</td>\n",
       "      <td>CC(C)[C@H](NC(=O)C[C@H](NC(=O)/C=C/C(=O)O)c1cc...</td>\n",
       "    </tr>\n",
       "    <tr>\n",
       "      <th>269</th>\n",
       "      <td>CHEMBL180976</td>\n",
       "      <td>COc1cccc(/C=C/C(=O)N[C@@H](CC(=O)N[C@H](C(=O)[...</td>\n",
       "      <td>IC50</td>\n",
       "      <td>'='</td>\n",
       "      <td>4.0</td>\n",
       "      <td>nM</td>\n",
       "      <td>8.40</td>\n",
       "      <td>NaN</td>\n",
       "      <td>F</td>\n",
       "      <td>Inhibitory concentration of the compound again...</td>\n",
       "      <td>Escherichia coli</td>\n",
       "      <td>NaN</td>\n",
       "      <td>Escherichia coli</td>\n",
       "      <td>Escherichia coli</td>\n",
       "      <td>Bioorg Med Chem Lett</td>\n",
       "      <td>8.397940</td>\n",
       "      <td>COc1cccc(/C=C/C(=O)N[C@@H](CC(=O)N[C@H](C(=O)[...</td>\n",
       "    </tr>\n",
       "    <tr>\n",
       "      <th>1474</th>\n",
       "      <td>CHEMBL4175069</td>\n",
       "      <td>CC(=O)N[C@@H](Cc1ccccc1)C(=O)NCC(=O)N[C@H]1C[C...</td>\n",
       "      <td>IC50</td>\n",
       "      <td>'='</td>\n",
       "      <td>5.3</td>\n",
       "      <td>nM</td>\n",
       "      <td>8.28</td>\n",
       "      <td>NaN</td>\n",
       "      <td>F</td>\n",
       "      <td>Antibacterial activity against Escherichia col...</td>\n",
       "      <td>Escherichia coli</td>\n",
       "      <td>NaN</td>\n",
       "      <td>Escherichia coli</td>\n",
       "      <td>Escherichia coli</td>\n",
       "      <td>Eur J Med Chem</td>\n",
       "      <td>8.275724</td>\n",
       "      <td>CC(=O)N[C@@H](Cc1ccccc1)C(=O)NCC(=O)N[C@H]1C[C...</td>\n",
       "    </tr>\n",
       "  </tbody>\n",
       "</table>\n",
       "</div>"
      ],
      "text/plain": [
       "     Molecule ChEMBL ID                                             Smiles  \\\n",
       "1173       CHEMBL186155  CCCCC[C@H](CC(=O)NO)C(=O)N[C@H](C(=O)C1CCC[C@H...   \n",
       "1264       CHEMBL369559  CC(C)[C@H](NC(=O)C[C@H](NC(=O)/C=C/c1cccc(F)n1...   \n",
       "296        CHEMBL362048  CC(C)[C@H](NC(=O)C[C@H](NC(=O)/C=C/C(=O)O)c1cc...   \n",
       "269        CHEMBL180976  COc1cccc(/C=C/C(=O)N[C@@H](CC(=O)N[C@H](C(=O)[...   \n",
       "1474      CHEMBL4175069  CC(=O)N[C@@H](Cc1ccccc1)C(=O)NCC(=O)N[C@H]1C[C...   \n",
       "\n",
       "     Standard Type Standard Relation  Standard Value Standard Units  \\\n",
       "1173          IC50               '='             0.7             nM   \n",
       "1264          IC50               '='             1.0             nM   \n",
       "296           IC50               '='             2.0             nM   \n",
       "269           IC50               '='             4.0             nM   \n",
       "1474          IC50               '='             5.3             nM   \n",
       "\n",
       "      pChEMBL Value Data Validity Comment Assay Type  \\\n",
       "1173           9.15                   NaN          F   \n",
       "1264           9.00                   NaN          F   \n",
       "296            8.70                   NaN          F   \n",
       "269            8.40                   NaN          F   \n",
       "1474           8.28                   NaN          F   \n",
       "\n",
       "                                      Assay Description    Assay Organism  \\\n",
       "1173  In vitro inhibitory activity against Escherich...  Escherichia coli   \n",
       "1264  Inhibitory concentration of the compound again...  Escherichia coli   \n",
       "296   Inhibitory concentration of the compound again...  Escherichia coli   \n",
       "269   Inhibitory concentration of the compound again...  Escherichia coli   \n",
       "1474  Antibacterial activity against Escherichia col...  Escherichia coli   \n",
       "\n",
       "      Assay Variant Mutation       Target Name   Target Organism  \\\n",
       "1173                     NaN  Escherichia coli  Escherichia coli   \n",
       "1264                     NaN  Escherichia coli  Escherichia coli   \n",
       "296                      NaN  Escherichia coli  Escherichia coli   \n",
       "269                      NaN  Escherichia coli  Escherichia coli   \n",
       "1474                     NaN  Escherichia coli  Escherichia coli   \n",
       "\n",
       "          Document Journal   pChEMBL  \\\n",
       "1173  Bioorg Med Chem Lett  9.154902   \n",
       "1264  Bioorg Med Chem Lett  9.000000   \n",
       "296   Bioorg Med Chem Lett  8.698970   \n",
       "269   Bioorg Med Chem Lett  8.397940   \n",
       "1474        Eur J Med Chem  8.275724   \n",
       "\n",
       "                                       Canonical_Smiles  \n",
       "1173  CCCCC[C@H](CC(=O)NO)C(=O)N[C@H](C(=O)C1CCC[C@H...  \n",
       "1264  CC(C)[C@H](NC(=O)C[C@H](NC(=O)/C=C/c1cccc(F)n1...  \n",
       "296   CC(C)[C@H](NC(=O)C[C@H](NC(=O)/C=C/C(=O)O)c1cc...  \n",
       "269   COc1cccc(/C=C/C(=O)N[C@@H](CC(=O)N[C@H](C(=O)[...  \n",
       "1474  CC(=O)N[C@@H](Cc1ccccc1)C(=O)NCC(=O)N[C@H]1C[C...  "
      ]
     },
     "execution_count": 28,
     "metadata": {},
     "output_type": "execute_result"
    }
   ],
   "source": [
    "df3.head()"
   ]
  },
  {
   "cell_type": "markdown",
   "id": "4d1a95dd-0966-4a8a-af39-dfaa4dc42d34",
   "metadata": {},
   "source": [
    "## 2.4. pChEMBL validation"
   ]
  },
  {
   "cell_type": "code",
   "execution_count": 29,
   "id": "3590d3b6-97a8-47d6-a9da-1d9c873ff3ec",
   "metadata": {},
   "outputs": [
    {
     "data": {
      "text/plain": [
       "(942, 17)"
      ]
     },
     "execution_count": 29,
     "metadata": {},
     "output_type": "execute_result"
    }
   ],
   "source": [
    "df4 = df3.dropna(subset = 'pChEMBL Value')\n",
    "df4.shape"
   ]
  },
  {
   "cell_type": "code",
   "execution_count": 30,
   "id": "af654ca0-b531-4175-befd-6a0d5a2d9e12",
   "metadata": {},
   "outputs": [
    {
     "name": "stdout",
     "output_type": "stream",
     "text": [
      "R2= 0.9999904786251309\n"
     ]
    },
    {
     "data": {
      "text/plain": [
       "<seaborn.axisgrid.JointGrid at 0x75929911e7d0>"
      ]
     },
     "execution_count": 30,
     "metadata": {},
     "output_type": "execute_result"
    },
    {
     "data": {
      "image/png": "[encoded data removed]",
      "text/plain": [
       "<Figure size 600x600 with 3 Axes>"
      ]
     },
     "metadata": {},
     "output_type": "display_data"
    }
   ],
   "source": [
    "import seaborn as sns\n",
    "import numpy as np\n",
    "from scipy import stats\n",
    "x, y = df4[\"pChEMBL Value\"].values, df4[\"pChEMBL\"].values\n",
    "def r2(x, y):\n",
    "    return stats.pearsonr(x, y)[0] ** 2\n",
    "r2=stats.pearsonr(x, y)[0] ** 2\n",
    "print('R2=', r2)\n",
    "\n",
    "sns.jointplot(data = df4, \n",
    "    x = \"pChEMBL Value\",\n",
    "    y = \"pChEMBL\", kind=\"reg\")\n"
   ]
  },
  {
   "cell_type": "markdown",
   "id": "442877ba-7fd6-4db4-82af-ac8610da34f5",
   "metadata": {},
   "source": [
    "## 2.5. Save"
   ]
  },
  {
   "cell_type": "code",
   "execution_count": 31,
   "id": "513f5064-af31-4000-8636-74830810afc4",
   "metadata": {},
   "outputs": [],
   "source": [
    "df3.to_csv('./Data/ecoli_pre.csv')\n",
    "df4.to_csv('./Data/ecoli_pchem.csv')"
   ]
  },
  {
   "cell_type": "code",
   "execution_count": 32,
   "id": "2946d9fe",
   "metadata": {},
   "outputs": [
    {
     "data": {
      "text/plain": [
       "(942, 18)"
      ]
     },
     "execution_count": 32,
     "metadata": {},
     "output_type": "execute_result"
    }
   ],
   "source": [
    "import pandas as pd\n",
    "\n",
    "data=pd.read_csv('/home/labhhc1/Documents/Workspace/D20/Nghi/HIV_IN_Classification_ML/Data/ecoli_pchem.csv')\n",
    "data.shape"
   ]
  }
 ],
 "metadata": {
  "colab": {
   "provenance": []
  },
  "kernelspec": {
   "display_name": "Python 3 (ipykernel)",
   "language": "python",
   "name": "python3"
  },
  "language_info": {
   "codemirror_mode": {
    "name": "ipython",
    "version": 3
   },
   "file_extension": ".py",
   "mimetype": "text/x-python",
   "name": "python",
   "nbconvert_exporter": "python",
   "pygments_lexer": "ipython3",
   "version": "3.11.10"
  }
 },
 "nbformat": 4,
 "nbformat_minor": 5
}
